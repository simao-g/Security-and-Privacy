{
 "cells": [
  {
   "cell_type": "markdown",
   "metadata": {},
   "source": [
    "# Assignment #1: Performance Benchmarking of Cryptographic Mechanisms\n",
    "\n"
   ]
  },
  {
   "cell_type": "markdown",
   "metadata": {},
   "source": [
    "Trabalho por: \n",
    "- David Rodrigues up202303949\n",
    "- Diana Pereira up202304476\n",
    "- Simão Gomes up202304752"
   ]
  },
  {
   "cell_type": "markdown",
   "metadata": {},
   "source": [
    "### Index\n",
    "[0. Libreries and Modules](#importing-required-libraries-and-modules) <br>\n",
    "[A. Generating text files](#a-generating-random-text-files) <br>\n",
    "[B. AES](#b-encrypting-and-decrypting-using-aes)<br>\n",
    "- [B.1. Results](#b1-comparing-aes-results)<br>\n",
    "- [B.2. Padding](#b2-padding-vs-no-padding)<br>\n",
    "[C. RSA]"
   ]
  },
  {
   "cell_type": "markdown",
   "metadata": {},
   "source": [
    "### Importing required libraries and modules"
   ]
  },
  {
   "cell_type": "code",
   "execution_count": 1,
   "metadata": {},
   "outputs": [],
   "source": [
    "import os\n",
    "import timeit\n",
    "\n",
    "from cryptography.hazmat.primitives import hashes, padding\n",
    "from cryptography.hazmat.primitives.asymmetric import rsa\n",
    "from cryptography.hazmat.primitives.ciphers import Cipher, algorithms, modes"
   ]
  },
  {
   "cell_type": "markdown",
   "metadata": {},
   "source": [
    "### A. Generating random text files\n",
    "\n",
    "Files with the following sizes:\n",
    "- Advanced Encription Standard (in bytes): 8, 64, 512, 4096, 32768, 262144, 2097152\n",
    "- Rivest-Shamir-Adleman (in bytes): 8, 64, 512, 4096, 32768, 262144, 2097152\n",
    "- Secure Hash Algorithm (in bytes): 2, 4, 8, 16, 32, 64, 128"
   ]
  },
  {
   "cell_type": "code",
   "execution_count": 4,
   "metadata": {},
   "outputs": [],
   "source": [
    "tamanhosAES = [8,64,512,4096,32768,262144,2097152]\n",
    "tamanhosRSA = [8,64,512,4096,32768,262144,2097152]\n",
    "tamanhosSHA = [2,4,8,16,32,64,128]\n",
    "\n",
    "os.makedirs(\"Ficheiros\",exist_ok=True) #exist_ok para resolver o erro de já existir o diretório \"FileExistsError\"\n",
    "\n",
    "def gerar_ficheiros(tamanho,nome):\n",
    "    with open(f\"Ficheiros/{nome}\", \"wb\") as file:\n",
    "        file.write(os.urandom(tamanho))\n",
    "\n",
    "for t in tamanhosAES:\n",
    "    gerar_ficheiros(t, f\"AES_{t}.txt\")\n",
    "\n",
    "for t in tamanhosRSA:\n",
    "    gerar_ficheiros(t, f\"RSA_{t}.txt\")\n",
    "\n",
    "for t in tamanhosSHA:\n",
    "    gerar_ficheiros(t, f\"SHA_{t}.txt\")"
   ]
  },
  {
   "cell_type": "markdown",
   "metadata": {},
   "source": [
    "### B. Encrypting and decrypting using AES\n",
    "To get statistically significant results we will repeat the encription->decription procedure several times for each file \n",
    "We will be using padding  "
   ]
  },
  {
   "cell_type": "code",
   "execution_count": null,
   "metadata": {},
   "outputs": [
    {
     "name": "stdout",
     "output_type": "stream",
     "text": [
      "8 bytes: encryption time:  86.54800039948896 micros, decryption time:  83.95799872232601 micros\n",
      "64 bytes: encryption time:  41.098998044617474 micros, decryption time:  40.800999267958105 micros\n",
      "512 bytes: encryption time:  40.63500004122034 micros, decryption time:  39.61299953516573 micros\n",
      "4096 bytes: encryption time:  49.116000009234995 micros, decryption time:  45.4130006255582 micros\n",
      "32768 bytes: encryption time:  114.64500101283193 micros, decryption time:  83.27199990162626 micros\n",
      "262144 bytes: encryption time:  365.3510008007288 micros, decryption time:  162.76700131129473 micros\n",
      "2097152 bytes: encryption time:  5284.178002038971 micros, decryption time:  3797.110998420976 micros\n"
     ]
    }
   ],
   "source": [
    "key_AES=os.urandom(32) #key de 256 bits\n",
    "iv_AES=os.urandom(16) #iv de 128 bits\n",
    "\n",
    "def encrypt_AES(original):\n",
    "    cipher = Cipher(algorithms.AES(key_AES), modes.CBC(iv_AES))\n",
    "    encryptor = cipher.encryptor()\n",
    "\n",
    "    #padding para tornar o texto múltiplo de 16 bytes\n",
    "    padder = padding.PKCS7(128).padder()\n",
    "    padded = padder.update(original) + padder.finalize()\n",
    "\n",
    "    return encryptor.update(padded) + encryptor.finalize()\n",
    "\n",
    "def decrypt_AES(encrypted):\n",
    "    cipher = Cipher(algorithms.AES(key_AES), modes.CBC(iv_AES))\n",
    "    decryptor = cipher.decryptor()\n",
    "\n",
    "    decrypted= decryptor.update(encrypted) + decryptor.finalize()\n",
    "\n",
    "    unpadder = padding.PKCS7(128).unpadder()\n",
    "\n",
    "    return unpadder.update(decrypted) + unpadder.finalize()\n",
    "\n",
    "resultados_AES = []\n",
    "reps = 100\n",
    "\n",
    "for t in tamanhosAES:\n",
    "    with open(f\"Ficheiros/AES_{t}.txt\",\"rb\") as file:\n",
    "        original = file.read()\n",
    "\n",
    "    tempo_enc = 0\n",
    "    tempo_dec = 0\n",
    "    \n",
    "    for i in range(reps):\n",
    "        start = timeit.default_timer()\n",
    "        encrypted = encrypt_AES(original)\n",
    "        end = timeit.default_timer()\n",
    "        tempo_enc += end - start\n",
    "\n",
    "        start = timeit.default_timer()\n",
    "        decrypt_AES(encrypted)\n",
    "        end = timeit.default_timer()\n",
    "        tempo_dec += end - start\n",
    "\n",
    "    tempo_enc /= reps\n",
    "    tempo_dec /= reps\n",
    "\n",
    "    tempo_enc *= 1e6 #converte para microsegundos\n",
    "    tempo_dec *= 1e6\n",
    "\n",
    "    resultados_AES.append((t, tempo_enc, tempo_dec))\n",
    "\n",
    "    print(t , \"bytes: encryption time: \", tempo_enc, \"micros, decryption time: \", tempo_dec, \"micros\")\n"
   ]
  },
  {
   "cell_type": "markdown",
   "metadata": {},
   "source": [
    "#### B.1. Comparing AES Results"
   ]
  },
  {
   "cell_type": "markdown",
   "metadata": {},
   "source": [
    "#### B.2. Padding vs No Padding"
   ]
  },
  {
   "cell_type": "markdown",
   "metadata": {},
   "source": [
    "### C. Encrypting and decrypting with RSA"
   ]
  }
 ],
 "metadata": {
  "kernelspec": {
   "display_name": "base",
   "language": "python",
   "name": "python3"
  },
  "language_info": {
   "codemirror_mode": {
    "name": "ipython",
    "version": 3
   },
   "file_extension": ".py",
   "mimetype": "text/x-python",
   "name": "python",
   "nbconvert_exporter": "python",
   "pygments_lexer": "ipython3",
   "version": "3.11.7"
  }
 },
 "nbformat": 4,
 "nbformat_minor": 2
}
