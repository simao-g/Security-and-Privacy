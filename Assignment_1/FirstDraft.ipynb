{
 "cells": [
  {
   "cell_type": "markdown",
   "metadata": {},
   "source": [
    "# Assignment #1: Performance Benchmarking of Cryptographic Mechanisms\n",
    "\n"
   ]
  },
  {
   "cell_type": "markdown",
   "metadata": {},
   "source": [
    "Trabalho por: \n",
    "- David Rodrigues up202303949\n",
    "- Diana Pereira up202304476\n",
    "- Simão Gomes up202304752"
   ]
  },
  {
   "cell_type": "markdown",
   "metadata": {},
   "source": [
    "### Index\n",
    "[0. Libreries and Modules](#importing-required-libraries-and-modules) <br>\n",
    "[A. Generating text files](#a-generating-random-text-files) <br>\n",
    "[B. AES](#b-encrypting-and-decrypting-using-aes)<br>\n",
    "- [B.1. Results](#b1-comparing-aes-results)<br>\n",
    "- [B.2. Padding](#b2-padding-vs-no-padding)<br>\n",
    "[C. RSA]"
   ]
  },
  {
   "cell_type": "markdown",
   "metadata": {},
   "source": [
    "### Importing required libraries and modules"
   ]
  },
  {
   "cell_type": "code",
   "execution_count": 18,
   "metadata": {},
   "outputs": [],
   "source": [
    "import os\n",
    "import timeit"
   ]
  },
  {
   "cell_type": "markdown",
   "metadata": {},
   "source": [
    "### A. Generating random text files\n",
    "\n",
    "Files with the following sizes:\n",
    "- Advanced Encription Standard (in bytes): 8, 64, 512, 4096, 32768, 262144, 2097152\n",
    "- Rivest-Shamir-Adleman (in bytes): 8, 64, 512, 4096, 32768, 262144, 2097152\n",
    "- Secure Hash Algorithm (in bytes): 2, 4, 8, 16, 32, 64, 128"
   ]
  },
  {
   "cell_type": "code",
   "execution_count": 13,
   "metadata": {},
   "outputs": [],
   "source": [
    "tamanhosAES = [8,64,512,4096,32768,262144,2097152]\n",
    "tamanhosRSA = [8,64,512,4096,32768,262144,2097152]\n",
    "tamanhosSHA = [2,4,8,16,32,64,128]\n",
    "\n",
    "os.makedirs(\"Ficheiros\",exist_ok=True) #exist_ok para resolver o erro de já existir o diretório \"FileExistsError\"\n",
    "\n",
    "def gerar_ficheiros(tamanho,nome):\n",
    "    with open(f\"Ficheiros/{nome}\", \"wb\") as file:\n",
    "        file.write(os.urandom(tamanho))\n",
    "\n",
    "for t in tamanhosAES:\n",
    "    gerar_ficheiros(t, f\"AES_{t}.txt\")\n",
    "\n",
    "for t in tamanhosRSA:\n",
    "    gerar_ficheiros(t, f\"RSA_{t}.txt\")\n",
    "\n",
    "for t in tamanhosSHA:\n",
    "    gerar_ficheiros(t, f\"SHA_{t}.txt\")"
   ]
  },
  {
   "cell_type": "markdown",
   "metadata": {},
   "source": [
    "### B. Encrypting and decrypting using AES\n",
    "To get statistically significant results we will repeat the encription->decription procedure several times for each file <br>\n",
    "We will be using padding  "
   ]
  },
  {
   "cell_type": "code",
   "execution_count": 19,
   "metadata": {},
   "outputs": [],
   "source": [
    "from cryptography.hazmat.primitives.ciphers import Cipher, algorithms, modes\n",
    "from cryptography.hazmat.primitives import padding\n",
    "from cryptography.hazmat.backends import default_backend\n"
   ]
  },
  {
   "cell_type": "code",
   "execution_count": 27,
   "metadata": {},
   "outputs": [
    {
     "name": "stdout",
     "output_type": "stream",
     "text": [
      "8 bytes:\n",
      "Encryption time:  130.21100 microsegundos\n",
      "Decryption time:  124.02800 microsegundos\n",
      "\n",
      "64 bytes:\n",
      "Encryption time:  86.08000 microsegundos\n",
      "Decryption time:  86.32400 microsegundos\n",
      "\n",
      "512 bytes:\n",
      "Encryption time:  134.44300 microsegundos\n",
      "Decryption time:  130.89800 microsegundos\n",
      "\n",
      "4096 bytes:\n",
      "Encryption time:  125.07400 microsegundos\n",
      "Decryption time:  115.26900 microsegundos\n",
      "\n",
      "32768 bytes:\n",
      "Encryption time:  195.57600 microsegundos\n",
      "Decryption time:  138.64400 microsegundos\n",
      "\n",
      "262144 bytes:\n",
      "Encryption time:  865.40700 microsegundos\n",
      "Decryption time:  408.32700 microsegundos\n",
      "\n",
      "2097152 bytes:\n",
      "Encryption time:  13350.93200 microsegundos\n",
      "Decryption time:  8674.94800 microsegundos\n",
      "\n"
     ]
    }
   ],
   "source": [
    "key_AES=os.urandom(32) #key de 256 bits\n",
    "iv_AES=os.urandom(16) #iv de 128 bits\n",
    "\n",
    "def encrypt_AES(original):\n",
    "    cipher = Cipher(algorithms.AES(key_AES), modes.CBC(iv_AES))\n",
    "    encryptor = cipher.encryptor()\n",
    "\n",
    "    #padding para tornar o texto múltiplo de 16 bytes\n",
    "    padder = padding.PKCS7(128).padder()\n",
    "    padded = padder.update(original) + padder.finalize()\n",
    "\n",
    "    return encryptor.update(padded) + encryptor.finalize()\n",
    "\n",
    "def decrypt_AES(encrypted):\n",
    "    cipher = Cipher(algorithms.AES(key_AES), modes.CBC(iv_AES))\n",
    "    decryptor = cipher.decryptor()\n",
    "\n",
    "    decrypted= decryptor.update(encrypted) + decryptor.finalize()\n",
    "\n",
    "    unpadder = padding.PKCS7(128).unpadder()\n",
    "\n",
    "    return unpadder.update(decrypted) + unpadder.finalize()\n",
    "\n",
    "tempos_enc_AES = []\n",
    "tempos_dec_AES = []\n",
    "reps = 100\n",
    "\n",
    "for t in tamanhosAES:\n",
    "    with open(f\"Ficheiros/AES_{t}.txt\",\"rb\") as file:\n",
    "        original = file.read()\n",
    "\n",
    "    tempo_enc = 0\n",
    "    tempo_dec = 0\n",
    "    \n",
    "    for i in range(reps):\n",
    "        start = timeit.default_timer()\n",
    "        encrypted = encrypt_AES(original)\n",
    "        end = timeit.default_timer()\n",
    "        tempo_enc += end - start\n",
    "\n",
    "        start = timeit.default_timer()\n",
    "        decrypt_AES(encrypted)\n",
    "        end = timeit.default_timer()\n",
    "        tempo_dec += end - start\n",
    "\n",
    "    tempo_enc /= reps\n",
    "    tempo_dec /= reps\n",
    "\n",
    "    tempo_enc *= 1e6 #converte para microsegundos\n",
    "    tempo_dec *= 1e6\n",
    "\n",
    "    tempos_enc_AES.append(tempo_enc)\n",
    "    tempos_dec_AES.append(tempo_dec)\n",
    "\n",
    "    print(t ,\"bytes:\")\n",
    "    print(f\"Encryption time: {tempo_enc: .5f} microsegundos\")\n",
    "    print(f\"Decryption time: {tempo_dec: .5f} microsegundos\")\n",
    "    print(\"\")\n"
   ]
  },
  {
   "cell_type": "markdown",
   "metadata": {},
   "source": [
    "#### B.1. Comparing AES Results"
   ]
  },
  {
   "cell_type": "code",
   "execution_count": null,
   "metadata": {},
   "outputs": [],
   "source": []
  },
  {
   "cell_type": "markdown",
   "metadata": {},
   "source": [
    "#### B.2. Padding vs No Padding"
   ]
  },
  {
   "cell_type": "markdown",
   "metadata": {},
   "source": [
    "### C. Encrypting and decrypting with RSA"
   ]
  },
  {
   "cell_type": "code",
   "execution_count": 16,
   "metadata": {},
   "outputs": [],
   "source": [
    "from cryptography.hazmat.primitives import hashes\n",
    "from cryptography.hazmat.primitives.asymmetric import rsa, padding"
   ]
  },
  {
   "cell_type": "code",
   "execution_count": 17,
   "metadata": {},
   "outputs": [
    {
     "name": "stdout",
     "output_type": "stream",
     "text": [
      "8 bytes - encryption time: 146.63 microssegundos and decryption time: 1752.23 microsegundos\n",
      "64 bytes - encryption time: 111.06 microssegundos and decryption time: 1401.26 microsegundos\n"
     ]
    },
    {
     "ename": "ValueError",
     "evalue": "Encryption failed",
     "output_type": "error",
     "traceback": [
      "\u001b[1;31m---------------------------------------------------------------------------\u001b[0m",
      "\u001b[1;31mValueError\u001b[0m                                Traceback (most recent call last)",
      "Cell \u001b[1;32mIn[17], line 38\u001b[0m\n\u001b[0;32m     36\u001b[0m \u001b[38;5;28;01mfor\u001b[39;00m i \u001b[38;5;129;01min\u001b[39;00m \u001b[38;5;28mrange\u001b[39m(reps):\n\u001b[0;32m     37\u001b[0m     start \u001b[38;5;241m=\u001b[39m timeit\u001b[38;5;241m.\u001b[39mdefault_timer()\n\u001b[1;32m---> 38\u001b[0m     encrypted \u001b[38;5;241m=\u001b[39m encrypt_RSA(original)\n\u001b[0;32m     39\u001b[0m     end \u001b[38;5;241m=\u001b[39m timeit\u001b[38;5;241m.\u001b[39mdefault_timer()\n\u001b[0;32m     40\u001b[0m     tempo_enc \u001b[38;5;241m+\u001b[39m\u001b[38;5;241m=\u001b[39m end \u001b[38;5;241m-\u001b[39m start\n",
      "Cell \u001b[1;32mIn[17], line 5\u001b[0m, in \u001b[0;36mencrypt_RSA\u001b[1;34m(original)\u001b[0m\n\u001b[0;32m      4\u001b[0m \u001b[38;5;28;01mdef\u001b[39;00m \u001b[38;5;21mencrypt_RSA\u001b[39m(original):\n\u001b[1;32m----> 5\u001b[0m     encrypted \u001b[38;5;241m=\u001b[39m public_key\u001b[38;5;241m.\u001b[39mencrypt(\n\u001b[0;32m      6\u001b[0m         original, \n\u001b[0;32m      7\u001b[0m         padding\u001b[38;5;241m.\u001b[39mOAEP(\n\u001b[0;32m      8\u001b[0m             mgf\u001b[38;5;241m=\u001b[39mpadding\u001b[38;5;241m.\u001b[39mMGF1(algorithm\u001b[38;5;241m=\u001b[39mhashes\u001b[38;5;241m.\u001b[39mSHA256()),\n\u001b[0;32m      9\u001b[0m             algorithm\u001b[38;5;241m=\u001b[39mhashes\u001b[38;5;241m.\u001b[39mSHA256(),\n\u001b[0;32m     10\u001b[0m             label\u001b[38;5;241m=\u001b[39m\u001b[38;5;28;01mNone\u001b[39;00m\n\u001b[0;32m     11\u001b[0m         )\n\u001b[0;32m     12\u001b[0m     )\n\u001b[0;32m     13\u001b[0m     \u001b[38;5;28;01mreturn\u001b[39;00m encrypted\n",
      "\u001b[1;31mValueError\u001b[0m: Encryption failed"
     ]
    }
   ],
   "source": [
    "private_key = rsa.generate_private_key(public_exponent=65537,key_size=2048,backend=default_backend())\n",
    "public_key =private_key.public_key()\n",
    "\n",
    "def encrypt_RSA(original):\n",
    "    encrypted = public_key.encrypt(\n",
    "        original, \n",
    "        padding.OAEP(\n",
    "            mgf=padding.MGF1(algorithm=hashes.SHA256()),\n",
    "            algorithm=hashes.SHA256(),\n",
    "            label=None\n",
    "        )\n",
    "    )\n",
    "    return encrypted\n",
    "\n",
    "def decrypt_RSA(encrypted):\n",
    "    decrypted = private_key.decrypt(\n",
    "        encrypted, \n",
    "        padding.OAEP(\n",
    "            mgf=padding.MGF1(algorithm=hashes.SHA256()),\n",
    "            algorithm=hashes.SHA256(),\n",
    "            label=None\n",
    "        )\n",
    "    )\n",
    "    return decrypted\n",
    "\n",
    "resultados_RSA = []\n",
    "reps = 100\n",
    "\n",
    "for t in tamanhosRSA:\n",
    "    with open(f\"Ficheiros/RSA_{t}.txt\",\"rb\") as file:\n",
    "        original = file.read()\n",
    "\n",
    "    tempo_enc = 0\n",
    "    tempo_dec = 0\n",
    "    \n",
    "    for i in range(reps):\n",
    "        start = timeit.default_timer()\n",
    "        encrypted = encrypt_RSA(original)\n",
    "        end = timeit.default_timer()\n",
    "        tempo_enc += end - start\n",
    "\n",
    "        start = timeit.default_timer()\n",
    "        decrypt_RSA(encrypted)\n",
    "        end = timeit.default_timer()\n",
    "        tempo_dec += end - start\n",
    "\n",
    "    tempo_enc /= reps\n",
    "    tempo_dec /= reps\n",
    "\n",
    "    tempo_enc *= 1e6 #converte para microsegundos\n",
    "    tempo_dec *= 1e6\n",
    "\n",
    "    resultados_RSA.append((t, tempo_enc, tempo_dec))\n",
    "\n",
    "    print(t , f\"bytes - encryption time:{tempo_enc: .2f} microssegundos and decryption time:{tempo_dec: .2f} microsegundos\")"
   ]
  },
  {
   "cell_type": "markdown",
   "metadata": {},
   "source": []
  }
 ],
 "metadata": {
  "kernelspec": {
   "display_name": "base",
   "language": "python",
   "name": "python3"
  },
  "language_info": {
   "codemirror_mode": {
    "name": "ipython",
    "version": 3
   },
   "file_extension": ".py",
   "mimetype": "text/x-python",
   "name": "python",
   "nbconvert_exporter": "python",
   "pygments_lexer": "ipython3",
   "version": "3.11.7"
  }
 },
 "nbformat": 4,
 "nbformat_minor": 2
}
