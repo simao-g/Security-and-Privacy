{
 "cells": [
  {
   "cell_type": "markdown",
   "metadata": {},
   "source": [
    "# Assignment #1: Performance Benchmarking of Cryptographic Mechanisms\n",
    "\n"
   ]
  },
  {
   "cell_type": "markdown",
   "metadata": {},
   "source": [
    "Trabalho por: \n",
    "- David Rodrigues up202303949\n",
    "- Diana Pereira up202304476\n",
    "- Simão Gomes up202304752"
   ]
  },
  {
   "cell_type": "markdown",
   "metadata": {},
   "source": [
    "### Index\n",
    "- [0. Experimental Setup](#experimental-setup) <br>\n",
    "- [1. Libraries and Modules](#importing-required-libraries-and-modules) <br>\n",
    "- [A. Generating text files](#a-generating-random-text-files) <br>\n",
    "- [B. AES](#b-encrypting-and-decrypting-using-aes)<br>\n",
    "[  B.1. Results](#b1-comparing-aes-results)<br>\n",
    "- [C. RSA](#c-encrypting-and-decrypting-with-rsa)<br>\n",
    "[  C.1. Results](#c1-comparing-rsa-results)<br>\n",
    "- [D. SHA](#d-encryption-and-decryption-with-sha-256)<br>\n",
    "- [E. Overall Comparison](#e-result-comparison)<br>"
   ]
  },
  {
   "cell_type": "markdown",
   "metadata": {},
   "source": [
    "## Experimental Setup\n",
    "-\n",
    "-"
   ]
  },
  {
   "cell_type": "markdown",
   "metadata": {},
   "source": [
    "### Importing required libraries and modules"
   ]
  },
  {
   "cell_type": "code",
   "execution_count": 28,
   "metadata": {},
   "outputs": [],
   "source": [
    "import os\n",
    "import timeit\n",
    "import time\n",
    "import matplotlib.pyplot as plt\n",
    "import numpy as np"
   ]
  },
  {
   "cell_type": "markdown",
   "metadata": {},
   "source": [
    "### A. Generating random text files\n",
    "\n",
    "Files with the following sizes:\n",
    "- Advanced Encription Standard (in bytes): 8, 64, 512, 4096, 32768, 262144, 2097152\n",
    "- Rivest-Shamir-Adleman (in bytes): 8, 64, 512, 4096, 32768, 262144, 2097152\n",
    "- Secure Hash Algorithm (in bytes): 2, 4, 8, 16, 32, 64, 128"
   ]
  },
  {
   "cell_type": "code",
   "execution_count": 29,
   "metadata": {},
   "outputs": [],
   "source": [
    "tamanhosAES = [8,64,512,4096,32768,262144,2097152]\n",
    "tamanhosRSA = [8,64,512,4096,32768,262144,2097152]\n",
    "tamanhosSHA = [2,4,8,16,32,64,128]\n",
    "\n",
    "os.makedirs(\"Ficheiros\",exist_ok=True) #exist_ok para resolver o erro de já existir o diretório \"FileExistsError\"\n",
    "\n",
    "def gerar_ficheiros(tamanho,nome):\n",
    "    with open(f\"Ficheiros/{nome}\", \"wb\") as file:\n",
    "        file.write(os.urandom(tamanho))\n",
    "\n",
    "for t in tamanhosAES:\n",
    "    gerar_ficheiros(t, f\"AES_{t}.txt\")\n",
    "\n",
    "for t in tamanhosRSA:\n",
    "    gerar_ficheiros(t, f\"RSA_{t}.txt\")\n",
    "\n",
    "for t in tamanhosSHA:\n",
    "    gerar_ficheiros(t, f\"SHA_{t}.txt\")"
   ]
  },
  {
   "cell_type": "markdown",
   "metadata": {},
   "source": [
    "### B. Encrypting and decrypting using AES"
   ]
  },
  {
   "cell_type": "code",
   "execution_count": 30,
   "metadata": {},
   "outputs": [],
   "source": [
    "from cryptography.hazmat.primitives.ciphers import Cipher, algorithms, modes\n",
    "from cryptography.hazmat.primitives import padding\n",
    "from cryptography.hazmat.backends import default_backend\n"
   ]
  },
  {
   "cell_type": "code",
   "execution_count": 31,
   "metadata": {},
   "outputs": [],
   "source": [
    "key_AES=os.urandom(32) #key de 256 bits\n",
    "iv_AES=os.urandom(16) #iv de 128 bits"
   ]
  },
  {
   "cell_type": "code",
   "execution_count": 32,
   "metadata": {},
   "outputs": [],
   "source": [
    "def encrypt_AES(original,key,iv):\n",
    "    cipher = Cipher(algorithms.AES(key), modes.CBC(iv))\n",
    "    encryptor = cipher.encryptor()\n",
    "\n",
    "    padder = padding.PKCS7(128).padder()\n",
    "    padded = padder.update(original) + padder.finalize()\n",
    "\n",
    "    start = time.perf_counter()\n",
    "    encrypted = encryptor.update(padded) + encryptor.finalize()\n",
    "    end = time.perf_counter()\n",
    "\n",
    "    return encrypted,end-start\n",
    "\n",
    "def decrypt_AES(encrypted,key,iv):\n",
    "    cipher = Cipher(algorithms.AES(key), modes.CBC(iv))\n",
    "    decryptor = cipher.decryptor()\n",
    "\n",
    "    start = time.perf_counter()\n",
    "    decrypted= decryptor.update(encrypted) + decryptor.finalize()\n",
    "    unpadder = padding.PKCS7(128).unpadder()\n",
    "    end = time.perf_counter()\n",
    "\n",
    "    return unpadder.update(decrypted) + unpadder.finalize(), end-start"
   ]
  },
  {
   "cell_type": "code",
   "execution_count": 33,
   "metadata": {},
   "outputs": [
    {
     "name": "stdout",
     "output_type": "stream",
     "text": [
      "8 bytes:\n",
      "Encryption time:  36.01200 microssegundos\n",
      "Decryption time:  42.57600 microssegundos\n",
      "\n",
      "64 bytes:\n",
      "Encryption time:  26.59200 microssegundos\n",
      "Decryption time:  29.94800 microssegundos\n",
      "\n",
      "512 bytes:\n",
      "Encryption time:  31.60800 microssegundos\n",
      "Decryption time:  35.76000 microssegundos\n",
      "\n",
      "4096 bytes:\n",
      "Encryption time:  42.70400 microssegundos\n",
      "Decryption time:  38.36800 microssegundos\n",
      "\n",
      "32768 bytes:\n",
      "Encryption time:  239.81600 microssegundos\n",
      "Decryption time:  127.62800 microssegundos\n",
      "\n",
      "262144 bytes:\n",
      "Encryption time:  1538.77200 microssegundos\n",
      "Decryption time:  571.58000 microssegundos\n",
      "\n",
      "2097152 bytes:\n",
      "Encryption time:  11806.76400 microssegundos\n",
      "Decryption time:  6689.40000 microssegundos\n",
      "\n"
     ]
    }
   ],
   "source": [
    "reps = 25\n",
    "\n",
    "for t in tamanhosAES:\n",
    "    with open(f\"Ficheiros/AES_{t}.txt\",\"rb\") as file:\n",
    "        original = file.read()\n",
    "\n",
    "    tempo_enc = 0\n",
    "    tempo_dec = 0\n",
    "    \n",
    "    for i in range(reps):\n",
    "        encrypted, tempo = encrypt_AES(original,key_AES,iv_AES)\n",
    "        tempo_enc += tempo\n",
    "\n",
    "        \n",
    "        original, tempo =decrypt_AES(encrypted,key_AES,iv_AES)\n",
    "        \n",
    "        tempo_dec += tempo\n",
    "\n",
    "    tempo_enc /= reps\n",
    "    tempo_dec /= reps\n",
    "\n",
    "    tempo_enc *= 1e6 #converte para microsegundos\n",
    "    tempo_dec *= 1e6\n",
    "\n",
    "    print(t ,\"bytes:\")\n",
    "    print(f\"Encryption time: {tempo_enc: .5f} microssegundos\")\n",
    "    print(f\"Decryption time: {tempo_dec: .5f} microssegundos\")\n",
    "    print(\"\")"
   ]
  },
  {
   "cell_type": "markdown",
   "metadata": {},
   "source": [
    "#### B.1. Comparing AES Results"
   ]
  },
  {
   "cell_type": "code",
   "execution_count": 34,
   "metadata": {},
   "outputs": [
    {
     "name": "stdout",
     "output_type": "stream",
     "text": [
      "[7.086400000844151e-05, 2.280000022437889e-05, 2.846800009137951e-05, 3.6172000036458485e-05, 0.00011548399990715552, 0.0007797679997747764, 0.008177668000062113]\n",
      "[4.334799974458292e-05, 2.5776000038604254e-05, 2.9071999961161055e-05, 3.5851999855367466e-05, 6.357600017508957e-05, 0.0002740199999243487, 0.00533934799976123]\n"
     ]
    }
   ],
   "source": [
    "tempos_enc_AES = []\n",
    "tempos_dec_AES = []\n",
    "\n",
    "stds_enc_AES = []\n",
    "stds_dec_AES = []\n",
    "\n",
    "for t in tamanhosAES:\n",
    "    tempos_enc = []\n",
    "    tempos_dec = []\n",
    "\n",
    "    for _ in range(reps): \n",
    "        original = os.urandom(t)\n",
    "\n",
    "        encrypted, tempo_enc = encrypt_AES(original, key_AES, iv_AES)\n",
    "        tempos_enc.append(tempo_enc)\n",
    "\n",
    "        decrypted, tempo_dec = decrypt_AES(encrypted, key_AES, iv_AES)\n",
    "        tempos_dec.append(tempo_dec)\n",
    "\n",
    "    tempos_enc_AES.append(np.mean(tempos_enc))\n",
    "    stds_enc_AES.append(np.std(tempos_enc))\n",
    "\n",
    "    tempos_dec_AES.append(np.mean(tempos_dec))\n",
    "    stds_dec_AES.append(np.std(tempos_dec))\n",
    "\n",
    "print(tempos_enc_AES)\n",
    "print(tempos_dec_AES)\n"
   ]
  },
  {
   "cell_type": "code",
   "execution_count": 35,
   "metadata": {},
   "outputs": [
    {
     "data": {
      "image/png": "[encoded data removed]",
      "text/plain": [
       "<Figure size 1000x600 with 1 Axes>"
      ]
     },
     "metadata": {},
     "output_type": "display_data"
    }
   ],
   "source": [
    "plt.figure(figsize=(10, 6))\n",
    "\n",
    "mean_enc = [x * 1e6 for x in tempos_enc_AES]\n",
    "mean_dec = [x * 1e6 for x in tempos_dec_AES]\n",
    "std_enc = [x * 1e6 for x in stds_enc_AES]\n",
    "std_dec = [x * 1e6 for x in stds_dec_AES]\n",
    "\n",
    "tamanho=range(len(tamanhosAES))\n",
    "\n",
    "plt.errorbar(tamanho, mean_enc, yerr=std_enc, fmt='-o', label='Encryption Time (µs)', capsize=5)\n",
    "plt.errorbar(tamanho, mean_dec, yerr=std_dec, fmt='-o', label='Decryption Time (µs)', capsize=5)\n",
    "\n",
    "plt.xticks(tamanho, tamanhosAES)\n",
    "plt.xlabel('Size (bytes)')\n",
    "plt.ylabel('Time (µs)')\n",
    "plt.title('Encryption and Decryption por tamanho do ficheiro')\n",
    "plt.grid(True)\n",
    "plt.legend()\n",
    "plt.tight_layout()\n",
    "plt.show()"
   ]
  },
  {
   "cell_type": "markdown",
   "metadata": {},
   "source": [
    "### C. Encrypting and decrypting with RSA"
   ]
  },
  {
   "cell_type": "code",
   "execution_count": 39,
   "metadata": {},
   "outputs": [],
   "source": [
    "from cryptography.hazmat.primitives import hashes\n",
    "from cryptography.hazmat.primitives.asymmetric import rsa, padding"
   ]
  },
  {
   "cell_type": "code",
   "execution_count": 40,
   "metadata": {},
   "outputs": [
    {
     "name": "stdout",
     "output_type": "stream",
     "text": [
      "8 bytes: \n",
      "encryption time: 91.11 microssegundos\n",
      "decryption time: 1101.32 microssegundos\n",
      "\n",
      "64 bytes: \n",
      "encryption time: 94.35 microssegundos\n",
      "decryption time: 1191.80 microssegundos\n",
      "\n"
     ]
    },
    {
     "ename": "ValueError",
     "evalue": "Encryption failed",
     "output_type": "error",
     "traceback": [
      "\u001b[1;31m---------------------------------------------------------------------------\u001b[0m",
      "\u001b[1;31mValueError\u001b[0m                                Traceback (most recent call last)",
      "Cell \u001b[1;32mIn[40], line 41\u001b[0m\n\u001b[0;32m     38\u001b[0m tempo_dec \u001b[38;5;241m=\u001b[39m \u001b[38;5;241m0\u001b[39m\n\u001b[0;32m     40\u001b[0m \u001b[38;5;28;01mfor\u001b[39;00m i \u001b[38;5;129;01min\u001b[39;00m \u001b[38;5;28mrange\u001b[39m(reps):\n\u001b[1;32m---> 41\u001b[0m     encrypted,tempo \u001b[38;5;241m=\u001b[39m encrypt_RSA(original)\n\u001b[0;32m     42\u001b[0m     tempo_enc \u001b[38;5;241m+\u001b[39m\u001b[38;5;241m=\u001b[39m tempo\n\u001b[0;32m     45\u001b[0m     original,tempo \u001b[38;5;241m=\u001b[39m decrypt_RSA(encrypted)\n",
      "Cell \u001b[1;32mIn[40], line 6\u001b[0m, in \u001b[0;36mencrypt_RSA\u001b[1;34m(original)\u001b[0m\n\u001b[0;32m      4\u001b[0m \u001b[38;5;28;01mdef\u001b[39;00m \u001b[38;5;21mencrypt_RSA\u001b[39m(original):\n\u001b[0;32m      5\u001b[0m     start\u001b[38;5;241m=\u001b[39mtime\u001b[38;5;241m.\u001b[39mperf_counter()\n\u001b[1;32m----> 6\u001b[0m     encrypted \u001b[38;5;241m=\u001b[39m public_key\u001b[38;5;241m.\u001b[39mencrypt(\n\u001b[0;32m      7\u001b[0m         original, \n\u001b[0;32m      8\u001b[0m         padding\u001b[38;5;241m.\u001b[39mOAEP(\n\u001b[0;32m      9\u001b[0m             mgf\u001b[38;5;241m=\u001b[39mpadding\u001b[38;5;241m.\u001b[39mMGF1(algorithm\u001b[38;5;241m=\u001b[39mhashes\u001b[38;5;241m.\u001b[39mSHA256()),\n\u001b[0;32m     10\u001b[0m             algorithm\u001b[38;5;241m=\u001b[39mhashes\u001b[38;5;241m.\u001b[39mSHA256(),\n\u001b[0;32m     11\u001b[0m             label\u001b[38;5;241m=\u001b[39m\u001b[38;5;28;01mNone\u001b[39;00m\n\u001b[0;32m     12\u001b[0m         )\n\u001b[0;32m     13\u001b[0m     )\n\u001b[0;32m     14\u001b[0m     end\u001b[38;5;241m=\u001b[39mtime\u001b[38;5;241m.\u001b[39mperf_counter()\n\u001b[0;32m     15\u001b[0m     \u001b[38;5;28;01mreturn\u001b[39;00m encrypted, end\u001b[38;5;241m-\u001b[39mstart\n",
      "\u001b[1;31mValueError\u001b[0m: Encryption failed"
     ]
    }
   ],
   "source": [
    "private_key = rsa.generate_private_key(public_exponent=65537,key_size=2048,backend=default_backend())\n",
    "public_key =private_key.public_key()\n",
    "\n",
    "def encrypt_RSA(original):\n",
    "    start=time.perf_counter()\n",
    "    encrypted = public_key.encrypt(\n",
    "        original, \n",
    "        padding.OAEP(\n",
    "            mgf=padding.MGF1(algorithm=hashes.SHA256()),\n",
    "            algorithm=hashes.SHA256(),\n",
    "            label=None\n",
    "        )\n",
    "    )\n",
    "    end=time.perf_counter()\n",
    "    return encrypted, end-start\n",
    "\n",
    "def decrypt_RSA(encrypted):\n",
    "    start = time.perf_counter()\n",
    "    decrypted = private_key.decrypt(\n",
    "        encrypted, \n",
    "        padding.OAEP(\n",
    "            mgf=padding.MGF1(algorithm=hashes.SHA256()),\n",
    "            algorithm=hashes.SHA256(),\n",
    "            label=None\n",
    "        )\n",
    "    )\n",
    "    end = time.perf_counter()\n",
    "    return decrypted, end-start\n",
    "\n",
    "resultados_RSA = []\n",
    "reps = 100\n",
    "\n",
    "for t in tamanhosRSA:\n",
    "    with open(f\"Ficheiros/RSA_{t}.txt\",\"rb\") as file:\n",
    "        original = file.read()\n",
    "\n",
    "    tempo_enc = 0\n",
    "    tempo_dec = 0\n",
    "    \n",
    "    for i in range(reps):\n",
    "        encrypted,tempo = encrypt_RSA(original)\n",
    "        tempo_enc += tempo\n",
    "\n",
    "        \n",
    "        original,tempo = decrypt_RSA(encrypted)\n",
    "        tempo_dec += tempo\n",
    "\n",
    "    tempo_enc /= reps\n",
    "    tempo_dec /= reps\n",
    "\n",
    "    tempo_enc *= 1e6 #converte para microsegundos\n",
    "    tempo_dec *= 1e6\n",
    "\n",
    "    resultados_RSA.append((t, tempo_enc, tempo_dec))\n",
    "\n",
    "    print(t, \"bytes: \")\n",
    "    print(f\"encryption time:{tempo_enc: .2f} microssegundos\")\n",
    "    print(f\"decryption time:{tempo_dec: .2f} microssegundos\")\n",
    "    print(\"\")"
   ]
  },
  {
   "cell_type": "markdown",
   "metadata": {},
   "source": [
    "#### C.1. Comparing RSA results"
   ]
  },
  {
   "cell_type": "code",
   "execution_count": null,
   "metadata": {},
   "outputs": [],
   "source": []
  },
  {
   "cell_type": "markdown",
   "metadata": {},
   "source": [
    "### D. Encryption and Decryption with SHA-256"
   ]
  },
  {
   "cell_type": "code",
   "execution_count": null,
   "metadata": {},
   "outputs": [
    {
     "name": "stdout",
     "output_type": "stream",
     "text": [
      "2 bytes:\n",
      "hash generation time: 42.11 microssegundos\n",
      "\n",
      "4 bytes:\n",
      "hash generation time: 49.45 microssegundos\n",
      "\n",
      "8 bytes:\n",
      "hash generation time: 27.29 microssegundos\n",
      "\n",
      "16 bytes:\n",
      "hash generation time: 18.00 microssegundos\n",
      "\n",
      "32 bytes:\n",
      "hash generation time: 17.41 microssegundos\n",
      "\n",
      "64 bytes:\n",
      "hash generation time: 20.85 microssegundos\n",
      "\n",
      "128 bytes:\n",
      "hash generation time: 17.98 microssegundos\n",
      "\n"
     ]
    }
   ],
   "source": [
    "def hashing_SHA(original):\n",
    "    digest = hashes.Hash(hashes.SHA256(), backend=default_backend())\n",
    "    digest.update(original)\n",
    "\n",
    "    return digest.finalize()\n",
    "\n",
    "hash_generation = []\n",
    "\n",
    "for t in tamanhosSHA:\n",
    "    with open(f\"Ficheiros/SHA_{t}.txt\",\"rb\") as file:\n",
    "        original = file.read()\n",
    "\n",
    "    tempo_hash = 0\n",
    "    \n",
    "    for i in range(reps):\n",
    "        start = timeit.default_timer()\n",
    "        hashing_SHA(original)\n",
    "        end = timeit.default_timer()\n",
    "        tempo_hash += end - start\n",
    "\n",
    "    tempo_hash /= reps\n",
    "\n",
    "    tempo_hash *= 1e6 #converte para microsegundos\n",
    "\n",
    "    hash_generation.append(tempo_hash)\n",
    "\n",
    "    print(t , \"bytes:\")\n",
    "    print(f\"hash generation time:{tempo_hash: .2f} microssegundos\")\n",
    "    print(\"\")"
   ]
  },
  {
   "cell_type": "markdown",
   "metadata": {},
   "source": [
    "### E. Result Comparison"
   ]
  }
 ],
 "metadata": {
  "kernelspec": {
   "display_name": "base",
   "language": "python",
   "name": "python3"
  },
  "language_info": {
   "codemirror_mode": {
    "name": "ipython",
    "version": 3
   },
   "file_extension": ".py",
   "mimetype": "text/x-python",
   "name": "python",
   "nbconvert_exporter": "python",
   "pygments_lexer": "ipython3",
   "version": "3.11.7"
  }
 },
 "nbformat": 4,
 "nbformat_minor": 2
}
